{
 "cells": [
  {
   "cell_type": "code",
   "execution_count": 1,
   "id": "9de2444c",
   "metadata": {},
   "outputs": [],
   "source": [
    "import numpy as np \n",
    "import pandas as pd\n",
    "import seaborn as sns\n",
    "import matplotlib.pyplot as plt\n",
    "%matplotlib inline"
   ]
  },
  {
   "cell_type": "markdown",
   "id": "a77a45d3",
   "metadata": {},
   "source": [
    "# Analysis using Python Pandas "
   ]
  },
  {
   "cell_type": "code",
   "execution_count": 2,
   "id": "6ca304b1",
   "metadata": {},
   "outputs": [
    {
     "data": {
      "text/html": [
       "<div>\n",
       "<style scoped>\n",
       "    .dataframe tbody tr th:only-of-type {\n",
       "        vertical-align: middle;\n",
       "    }\n",
       "\n",
       "    .dataframe tbody tr th {\n",
       "        vertical-align: top;\n",
       "    }\n",
       "\n",
       "    .dataframe thead th {\n",
       "        text-align: right;\n",
       "    }\n",
       "</style>\n",
       "<table border=\"1\" class=\"dataframe\">\n",
       "  <thead>\n",
       "    <tr style=\"text-align: right;\">\n",
       "      <th></th>\n",
       "      <th>Teams</th>\n",
       "      <th>City</th>\n",
       "      <th>Captains</th>\n",
       "      <th>Trophies</th>\n",
       "      <th>Fair Play Awards</th>\n",
       "      <th>Apperance in finals</th>\n",
       "      <th>Orange Cup</th>\n",
       "      <th>Purple Cap</th>\n",
       "      <th>Team Names</th>\n",
       "    </tr>\n",
       "  </thead>\n",
       "  <tbody>\n",
       "    <tr>\n",
       "      <th>0</th>\n",
       "      <td>Chennai Super Kings</td>\n",
       "      <td>Chennai</td>\n",
       "      <td>Dhoni</td>\n",
       "      <td>5</td>\n",
       "      <td>6</td>\n",
       "      <td>10</td>\n",
       "      <td>3</td>\n",
       "      <td>4</td>\n",
       "      <td>CSK</td>\n",
       "    </tr>\n",
       "    <tr>\n",
       "      <th>1</th>\n",
       "      <td>Rajasthan Royals</td>\n",
       "      <td>Jaipur</td>\n",
       "      <td>Sanju Samson</td>\n",
       "      <td>1</td>\n",
       "      <td>3</td>\n",
       "      <td>2</td>\n",
       "      <td>1</td>\n",
       "      <td>2</td>\n",
       "      <td>RR</td>\n",
       "    </tr>\n",
       "    <tr>\n",
       "      <th>2</th>\n",
       "      <td>Royal Chanllengers Bangalore</td>\n",
       "      <td>Bangalore</td>\n",
       "      <td>Faf du plessis</td>\n",
       "      <td>0</td>\n",
       "      <td>0</td>\n",
       "      <td>3</td>\n",
       "      <td>3</td>\n",
       "      <td>1</td>\n",
       "      <td>RCB</td>\n",
       "    </tr>\n",
       "    <tr>\n",
       "      <th>3</th>\n",
       "      <td>Kolkata Knight riders</td>\n",
       "      <td>Kolkata</td>\n",
       "      <td>Nitish Rana</td>\n",
       "      <td>2</td>\n",
       "      <td>0</td>\n",
       "      <td>3</td>\n",
       "      <td>1</td>\n",
       "      <td>0</td>\n",
       "      <td>KKR</td>\n",
       "    </tr>\n",
       "    <tr>\n",
       "      <th>4</th>\n",
       "      <td>Lucknow Super Giants</td>\n",
       "      <td>Lucknow</td>\n",
       "      <td>KL Rahul</td>\n",
       "      <td>0</td>\n",
       "      <td>0</td>\n",
       "      <td>0</td>\n",
       "      <td>0</td>\n",
       "      <td>0</td>\n",
       "      <td>LSG</td>\n",
       "    </tr>\n",
       "    <tr>\n",
       "      <th>5</th>\n",
       "      <td>Gujarat Titans</td>\n",
       "      <td>Gujarat</td>\n",
       "      <td>Hardik Pandya</td>\n",
       "      <td>1</td>\n",
       "      <td>2</td>\n",
       "      <td>2</td>\n",
       "      <td>1</td>\n",
       "      <td>1</td>\n",
       "      <td>GT</td>\n",
       "    </tr>\n",
       "    <tr>\n",
       "      <th>6</th>\n",
       "      <td>Sunrisers Hyderabad</td>\n",
       "      <td>Sunrisers</td>\n",
       "      <td>Aiden Markram</td>\n",
       "      <td>2</td>\n",
       "      <td>2</td>\n",
       "      <td>3</td>\n",
       "      <td>4</td>\n",
       "      <td>4</td>\n",
       "      <td>SRH</td>\n",
       "    </tr>\n",
       "    <tr>\n",
       "      <th>7</th>\n",
       "      <td>Punjab Kings</td>\n",
       "      <td>Punjab</td>\n",
       "      <td>Shikhar Dhawan</td>\n",
       "      <td>0</td>\n",
       "      <td>1</td>\n",
       "      <td>1</td>\n",
       "      <td>2</td>\n",
       "      <td>1</td>\n",
       "      <td>PBKS</td>\n",
       "    </tr>\n",
       "    <tr>\n",
       "      <th>8</th>\n",
       "      <td>Mumbai Indians</td>\n",
       "      <td>Mumbai</td>\n",
       "      <td>Rohit Sharma</td>\n",
       "      <td>5</td>\n",
       "      <td>2</td>\n",
       "      <td>6</td>\n",
       "      <td>1</td>\n",
       "      <td>1</td>\n",
       "      <td>MI</td>\n",
       "    </tr>\n",
       "    <tr>\n",
       "      <th>9</th>\n",
       "      <td>Delhi Capitals</td>\n",
       "      <td>Delhi</td>\n",
       "      <td>David Warner</td>\n",
       "      <td>0</td>\n",
       "      <td>1</td>\n",
       "      <td>1</td>\n",
       "      <td>0</td>\n",
       "      <td>2</td>\n",
       "      <td>DC</td>\n",
       "    </tr>\n",
       "  </tbody>\n",
       "</table>\n",
       "</div>"
      ],
      "text/plain": [
       "                         Teams        City        Captains  Trophies  \\\n",
       "0           Chennai Super Kings    Chennai           Dhoni         5   \n",
       "1              Rajasthan Royals     Jaipur    Sanju Samson         1   \n",
       "2  Royal Chanllengers Bangalore  Bangalore  Faf du plessis         0   \n",
       "3         Kolkata Knight riders    Kolkata     Nitish Rana         2   \n",
       "4          Lucknow Super Giants    Lucknow        KL Rahul         0   \n",
       "5                Gujarat Titans    Gujarat   Hardik Pandya         1   \n",
       "6          Sunrisers Hyderabad   Sunrisers   Aiden Markram         2   \n",
       "7                  Punjab Kings     Punjab  Shikhar Dhawan         0   \n",
       "8                Mumbai Indians     Mumbai    Rohit Sharma         5   \n",
       "9                Delhi Capitals      Delhi    David Warner         0   \n",
       "\n",
       "   Fair Play Awards  Apperance in finals  Orange Cup  Purple Cap Team Names  \n",
       "0                 6                   10           3           4        CSK  \n",
       "1                 3                    2           1           2         RR  \n",
       "2                 0                    3           3           1        RCB  \n",
       "3                 0                    3           1           0        KKR  \n",
       "4                 0                    0           0           0        LSG  \n",
       "5                 2                    2           1           1         GT  \n",
       "6                 2                    3           4           4        SRH  \n",
       "7                 1                    1           2           1       PBKS  \n",
       "8                 2                    6           1           1         MI  \n",
       "9                 1                    1           0           2         DC  "
      ]
     },
     "execution_count": 2,
     "metadata": {},
     "output_type": "execute_result"
    }
   ],
   "source": [
    "#Reading Excel in Jupyter Notebook\n",
    "\n",
    "df = pd.read_excel(r\"C:\\Users\\admin\\Desktop\\Gopinath\\My Excel Files\\IPL Analysis.xlsx\")\n",
    "df"
   ]
  },
  {
   "cell_type": "code",
   "execution_count": 3,
   "id": "9b7892bc",
   "metadata": {},
   "outputs": [
    {
     "data": {
      "text/plain": [
       "(10, 9)"
      ]
     },
     "execution_count": 3,
     "metadata": {},
     "output_type": "execute_result"
    }
   ],
   "source": [
    "#checking for number of rows and columns\n",
    "\n",
    "df.shape  "
   ]
  },
  {
   "cell_type": "code",
   "execution_count": 4,
   "id": "3eac5343",
   "metadata": {},
   "outputs": [
    {
     "data": {
      "text/html": [
       "<div>\n",
       "<style scoped>\n",
       "    .dataframe tbody tr th:only-of-type {\n",
       "        vertical-align: middle;\n",
       "    }\n",
       "\n",
       "    .dataframe tbody tr th {\n",
       "        vertical-align: top;\n",
       "    }\n",
       "\n",
       "    .dataframe thead th {\n",
       "        text-align: right;\n",
       "    }\n",
       "</style>\n",
       "<table border=\"1\" class=\"dataframe\">\n",
       "  <thead>\n",
       "    <tr style=\"text-align: right;\">\n",
       "      <th></th>\n",
       "      <th>Teams</th>\n",
       "      <th>City</th>\n",
       "      <th>Captains</th>\n",
       "      <th>Trophies</th>\n",
       "      <th>Fair Play Awards</th>\n",
       "      <th>Apperance in finals</th>\n",
       "      <th>Orange Cup</th>\n",
       "      <th>Purple Cap</th>\n",
       "      <th>Team Names</th>\n",
       "    </tr>\n",
       "  </thead>\n",
       "  <tbody>\n",
       "    <tr>\n",
       "      <th>0</th>\n",
       "      <td>Chennai Super Kings</td>\n",
       "      <td>Chennai</td>\n",
       "      <td>Dhoni</td>\n",
       "      <td>5</td>\n",
       "      <td>6</td>\n",
       "      <td>10</td>\n",
       "      <td>3</td>\n",
       "      <td>4</td>\n",
       "      <td>CSK</td>\n",
       "    </tr>\n",
       "    <tr>\n",
       "      <th>1</th>\n",
       "      <td>Rajasthan Royals</td>\n",
       "      <td>Jaipur</td>\n",
       "      <td>Sanju Samson</td>\n",
       "      <td>1</td>\n",
       "      <td>3</td>\n",
       "      <td>2</td>\n",
       "      <td>1</td>\n",
       "      <td>2</td>\n",
       "      <td>RR</td>\n",
       "    </tr>\n",
       "    <tr>\n",
       "      <th>2</th>\n",
       "      <td>Royal Chanllengers Bangalore</td>\n",
       "      <td>Bangalore</td>\n",
       "      <td>Faf du plessis</td>\n",
       "      <td>0</td>\n",
       "      <td>0</td>\n",
       "      <td>3</td>\n",
       "      <td>3</td>\n",
       "      <td>1</td>\n",
       "      <td>RCB</td>\n",
       "    </tr>\n",
       "    <tr>\n",
       "      <th>3</th>\n",
       "      <td>Kolkata Knight riders</td>\n",
       "      <td>Kolkata</td>\n",
       "      <td>Nitish Rana</td>\n",
       "      <td>2</td>\n",
       "      <td>0</td>\n",
       "      <td>3</td>\n",
       "      <td>1</td>\n",
       "      <td>0</td>\n",
       "      <td>KKR</td>\n",
       "    </tr>\n",
       "    <tr>\n",
       "      <th>4</th>\n",
       "      <td>Lucknow Super Giants</td>\n",
       "      <td>Lucknow</td>\n",
       "      <td>KL Rahul</td>\n",
       "      <td>0</td>\n",
       "      <td>0</td>\n",
       "      <td>0</td>\n",
       "      <td>0</td>\n",
       "      <td>0</td>\n",
       "      <td>LSG</td>\n",
       "    </tr>\n",
       "  </tbody>\n",
       "</table>\n",
       "</div>"
      ],
      "text/plain": [
       "                         Teams        City        Captains  Trophies  \\\n",
       "0           Chennai Super Kings    Chennai           Dhoni         5   \n",
       "1              Rajasthan Royals     Jaipur    Sanju Samson         1   \n",
       "2  Royal Chanllengers Bangalore  Bangalore  Faf du plessis         0   \n",
       "3         Kolkata Knight riders    Kolkata     Nitish Rana         2   \n",
       "4          Lucknow Super Giants    Lucknow        KL Rahul         0   \n",
       "\n",
       "   Fair Play Awards  Apperance in finals  Orange Cup  Purple Cap Team Names  \n",
       "0                 6                   10           3           4        CSK  \n",
       "1                 3                    2           1           2         RR  \n",
       "2                 0                    3           3           1        RCB  \n",
       "3                 0                    3           1           0        KKR  \n",
       "4                 0                    0           0           0        LSG  "
      ]
     },
     "execution_count": 4,
     "metadata": {},
     "output_type": "execute_result"
    }
   ],
   "source": [
    "#Top items in the dataframe\n",
    "\n",
    "df.head()"
   ]
  },
  {
   "cell_type": "code",
   "execution_count": 5,
   "id": "139adf56",
   "metadata": {},
   "outputs": [
    {
     "name": "stdout",
     "output_type": "stream",
     "text": [
      "<class 'pandas.core.frame.DataFrame'>\n",
      "RangeIndex: 10 entries, 0 to 9\n",
      "Data columns (total 9 columns):\n",
      " #   Column               Non-Null Count  Dtype \n",
      "---  ------               --------------  ----- \n",
      " 0   Teams                10 non-null     object\n",
      " 1   City                 10 non-null     object\n",
      " 2   Captains             10 non-null     object\n",
      " 3   Trophies             10 non-null     int64 \n",
      " 4   Fair Play Awards     10 non-null     int64 \n",
      " 5   Apperance in finals  10 non-null     int64 \n",
      " 6   Orange Cup           10 non-null     int64 \n",
      " 7   Purple Cap           10 non-null     int64 \n",
      " 8   Team Names           10 non-null     object\n",
      "dtypes: int64(5), object(4)\n",
      "memory usage: 852.0+ bytes\n"
     ]
    }
   ],
   "source": [
    "#checking for data types and null count in the dataframe\n",
    "\n",
    "df.info()"
   ]
  },
  {
   "cell_type": "code",
   "execution_count": 6,
   "id": "fb103c63",
   "metadata": {},
   "outputs": [
    {
     "data": {
      "text/plain": [
       "Teams                  0\n",
       "City                   0\n",
       "Captains               0\n",
       "Trophies               0\n",
       "Fair Play Awards       0\n",
       "Apperance in finals    0\n",
       "Orange Cup             0\n",
       "Purple Cap             0\n",
       "Team Names             0\n",
       "dtype: int64"
      ]
     },
     "execution_count": 6,
     "metadata": {},
     "output_type": "execute_result"
    }
   ],
   "source": [
    "#Checking for null values in the dataframe\n",
    "\n",
    "pd.isnull(df).sum()"
   ]
  },
  {
   "cell_type": "code",
   "execution_count": 7,
   "id": "bdc5b18e",
   "metadata": {},
   "outputs": [
    {
     "data": {
      "text/html": [
       "<div>\n",
       "<style scoped>\n",
       "    .dataframe tbody tr th:only-of-type {\n",
       "        vertical-align: middle;\n",
       "    }\n",
       "\n",
       "    .dataframe tbody tr th {\n",
       "        vertical-align: top;\n",
       "    }\n",
       "\n",
       "    .dataframe thead th {\n",
       "        text-align: right;\n",
       "    }\n",
       "</style>\n",
       "<table border=\"1\" class=\"dataframe\">\n",
       "  <thead>\n",
       "    <tr style=\"text-align: right;\">\n",
       "      <th></th>\n",
       "      <th>Teams</th>\n",
       "      <th>City</th>\n",
       "      <th>Captains</th>\n",
       "      <th>Trophies</th>\n",
       "      <th>Fair Play Awards</th>\n",
       "      <th>Apperance in finals</th>\n",
       "      <th>Orange Cap</th>\n",
       "      <th>Purple Cap</th>\n",
       "      <th>Team Names</th>\n",
       "    </tr>\n",
       "  </thead>\n",
       "  <tbody>\n",
       "    <tr>\n",
       "      <th>0</th>\n",
       "      <td>Chennai Super Kings</td>\n",
       "      <td>Chennai</td>\n",
       "      <td>Dhoni</td>\n",
       "      <td>5</td>\n",
       "      <td>6</td>\n",
       "      <td>10</td>\n",
       "      <td>3</td>\n",
       "      <td>4</td>\n",
       "      <td>CSK</td>\n",
       "    </tr>\n",
       "    <tr>\n",
       "      <th>1</th>\n",
       "      <td>Rajasthan Royals</td>\n",
       "      <td>Jaipur</td>\n",
       "      <td>Sanju Samson</td>\n",
       "      <td>1</td>\n",
       "      <td>3</td>\n",
       "      <td>2</td>\n",
       "      <td>1</td>\n",
       "      <td>2</td>\n",
       "      <td>RR</td>\n",
       "    </tr>\n",
       "    <tr>\n",
       "      <th>2</th>\n",
       "      <td>Royal Chanllengers Bangalore</td>\n",
       "      <td>Bangalore</td>\n",
       "      <td>Faf du plessis</td>\n",
       "      <td>0</td>\n",
       "      <td>0</td>\n",
       "      <td>3</td>\n",
       "      <td>3</td>\n",
       "      <td>1</td>\n",
       "      <td>RCB</td>\n",
       "    </tr>\n",
       "    <tr>\n",
       "      <th>3</th>\n",
       "      <td>Kolkata Knight riders</td>\n",
       "      <td>Kolkata</td>\n",
       "      <td>Nitish Rana</td>\n",
       "      <td>2</td>\n",
       "      <td>0</td>\n",
       "      <td>3</td>\n",
       "      <td>1</td>\n",
       "      <td>0</td>\n",
       "      <td>KKR</td>\n",
       "    </tr>\n",
       "    <tr>\n",
       "      <th>4</th>\n",
       "      <td>Lucknow Super Giants</td>\n",
       "      <td>Lucknow</td>\n",
       "      <td>KL Rahul</td>\n",
       "      <td>0</td>\n",
       "      <td>0</td>\n",
       "      <td>0</td>\n",
       "      <td>0</td>\n",
       "      <td>0</td>\n",
       "      <td>LSG</td>\n",
       "    </tr>\n",
       "    <tr>\n",
       "      <th>5</th>\n",
       "      <td>Gujarat Titans</td>\n",
       "      <td>Gujarat</td>\n",
       "      <td>Hardik Pandya</td>\n",
       "      <td>1</td>\n",
       "      <td>2</td>\n",
       "      <td>2</td>\n",
       "      <td>1</td>\n",
       "      <td>1</td>\n",
       "      <td>GT</td>\n",
       "    </tr>\n",
       "    <tr>\n",
       "      <th>6</th>\n",
       "      <td>Sunrisers Hyderabad</td>\n",
       "      <td>Sunrisers</td>\n",
       "      <td>Aiden Markram</td>\n",
       "      <td>2</td>\n",
       "      <td>2</td>\n",
       "      <td>3</td>\n",
       "      <td>4</td>\n",
       "      <td>4</td>\n",
       "      <td>SRH</td>\n",
       "    </tr>\n",
       "    <tr>\n",
       "      <th>7</th>\n",
       "      <td>Punjab Kings</td>\n",
       "      <td>Punjab</td>\n",
       "      <td>Shikhar Dhawan</td>\n",
       "      <td>0</td>\n",
       "      <td>1</td>\n",
       "      <td>1</td>\n",
       "      <td>2</td>\n",
       "      <td>1</td>\n",
       "      <td>PBKS</td>\n",
       "    </tr>\n",
       "    <tr>\n",
       "      <th>8</th>\n",
       "      <td>Mumbai Indians</td>\n",
       "      <td>Mumbai</td>\n",
       "      <td>Rohit Sharma</td>\n",
       "      <td>5</td>\n",
       "      <td>2</td>\n",
       "      <td>6</td>\n",
       "      <td>1</td>\n",
       "      <td>1</td>\n",
       "      <td>MI</td>\n",
       "    </tr>\n",
       "    <tr>\n",
       "      <th>9</th>\n",
       "      <td>Delhi Capitals</td>\n",
       "      <td>Delhi</td>\n",
       "      <td>David Warner</td>\n",
       "      <td>0</td>\n",
       "      <td>1</td>\n",
       "      <td>1</td>\n",
       "      <td>0</td>\n",
       "      <td>2</td>\n",
       "      <td>DC</td>\n",
       "    </tr>\n",
       "  </tbody>\n",
       "</table>\n",
       "</div>"
      ],
      "text/plain": [
       "                         Teams        City        Captains  Trophies  \\\n",
       "0           Chennai Super Kings    Chennai           Dhoni         5   \n",
       "1              Rajasthan Royals     Jaipur    Sanju Samson         1   \n",
       "2  Royal Chanllengers Bangalore  Bangalore  Faf du plessis         0   \n",
       "3         Kolkata Knight riders    Kolkata     Nitish Rana         2   \n",
       "4          Lucknow Super Giants    Lucknow        KL Rahul         0   \n",
       "5                Gujarat Titans    Gujarat   Hardik Pandya         1   \n",
       "6          Sunrisers Hyderabad   Sunrisers   Aiden Markram         2   \n",
       "7                  Punjab Kings     Punjab  Shikhar Dhawan         0   \n",
       "8                Mumbai Indians     Mumbai    Rohit Sharma         5   \n",
       "9                Delhi Capitals      Delhi    David Warner         0   \n",
       "\n",
       "   Fair Play Awards  Apperance in finals  Orange Cap  Purple Cap Team Names  \n",
       "0                 6                   10           3           4        CSK  \n",
       "1                 3                    2           1           2         RR  \n",
       "2                 0                    3           3           1        RCB  \n",
       "3                 0                    3           1           0        KKR  \n",
       "4                 0                    0           0           0        LSG  \n",
       "5                 2                    2           1           1         GT  \n",
       "6                 2                    3           4           4        SRH  \n",
       "7                 1                    1           2           1       PBKS  \n",
       "8                 2                    6           1           1         MI  \n",
       "9                 1                    1           0           2         DC  "
      ]
     },
     "execution_count": 7,
     "metadata": {},
     "output_type": "execute_result"
    }
   ],
   "source": [
    "#changing column name\n",
    "\n",
    "df.rename(columns= {'Orange Cup': 'Orange Cap'})"
   ]
  },
  {
   "cell_type": "code",
   "execution_count": 8,
   "id": "de6a187e",
   "metadata": {},
   "outputs": [
    {
     "data": {
      "text/plain": [
       "90"
      ]
     },
     "execution_count": 8,
     "metadata": {},
     "output_type": "execute_result"
    }
   ],
   "source": [
    "#shows the number of elements (values) in the dataset\n",
    "\n",
    "df.size   "
   ]
  },
  {
   "cell_type": "code",
   "execution_count": 9,
   "id": "c4185a88",
   "metadata": {},
   "outputs": [
    {
     "data": {
      "text/plain": [
       "Teams                  object\n",
       "City                   object\n",
       "Captains               object\n",
       "Trophies                int64\n",
       "Fair Play Awards        int64\n",
       "Apperance in finals     int64\n",
       "Orange Cup              int64\n",
       "Purple Cap              int64\n",
       "Team Names             object\n",
       "dtype: object"
      ]
     },
     "execution_count": 9,
     "metadata": {},
     "output_type": "execute_result"
    }
   ],
   "source": [
    "#displays the datatype in your dataset\n",
    "\n",
    "df.dtypes"
   ]
  },
  {
   "cell_type": "code",
   "execution_count": 10,
   "id": "d4009a35",
   "metadata": {},
   "outputs": [
    {
     "data": {
      "text/plain": [
       "0    False\n",
       "1    False\n",
       "2    False\n",
       "3    False\n",
       "4    False\n",
       "5    False\n",
       "6    False\n",
       "7    False\n",
       "8    False\n",
       "9    False\n",
       "dtype: bool"
      ]
     },
     "execution_count": 10,
     "metadata": {},
     "output_type": "execute_result"
    }
   ],
   "source": [
    "#checking for Duplicates in the Dataframe\n",
    "\n",
    "df.duplicated()   "
   ]
  },
  {
   "cell_type": "markdown",
   "id": "96b3ea98",
   "metadata": {},
   "source": [
    "# Exploratory Data Analysis (EDA)"
   ]
  },
  {
   "cell_type": "code",
   "execution_count": 12,
   "id": "dd000701",
   "metadata": {},
   "outputs": [
    {
     "data": {
      "image/png": "[encoded data removed]",
      "text/plain": [
       "<Figure size 640x480 with 1 Axes>"
      ]
     },
     "metadata": {},
     "output_type": "display_data"
    }
   ],
   "source": [
    "#Displaying Number Trophies collected by all the Teams\n",
    "\n",
    "ax = sns.countplot(x = 'Trophies',data = df)\n",
    "\n",
    "for bars in ax.containers:\n",
    "    ax.bar_label(bars)"
   ]
  },
  {
   "cell_type": "code",
   "execution_count": 14,
   "id": "7553efc8",
   "metadata": {},
   "outputs": [
    {
     "data": {
      "text/plain": [
       "<Axes: xlabel='Team Names', ylabel='Trophies'>"
      ]
     },
     "execution_count": 14,
     "metadata": {},
     "output_type": "execute_result"
    },
    {
     "data": {
      "image/png": "[encoded data removed]",
      "text/plain": [
       "<Figure size 1500x500 with 1 Axes>"
      ]
     },
     "metadata": {},
     "output_type": "display_data"
    }
   ],
   "source": [
    "#Displaying Number of Trophies collected by Each Team respectively starting from (2008 to 2023)\n",
    "\n",
    "b = df.groupby(['Team Names'], as_index=False)['Trophies'].sum().sort_values(by='Trophies', ascending=False).head(10)\n",
    "\n",
    "sns.set(rc={'figure.figsize':(15,5)})\n",
    "sns.barplot(data = b, x = 'Team Names',y= 'Trophies')"
   ]
  },
  {
   "cell_type": "code",
   "execution_count": 16,
   "id": "6145ef16",
   "metadata": {},
   "outputs": [
    {
     "data": {
      "text/plain": [
       "<Axes: xlabel='Team Names', ylabel='Apperance in finals'>"
      ]
     },
     "execution_count": 16,
     "metadata": {},
     "output_type": "execute_result"
    },
    {
     "data": {
      "image/png": "[encoded data removed]",
      "text/plain": [
       "<Figure size 1500x500 with 1 Axes>"
      ]
     },
     "metadata": {},
     "output_type": "display_data"
    }
   ],
   "source": [
    "#Displaying Each Team Presence in the Finals \n",
    "\n",
    "d = df.groupby(['Team Names'], as_index=False)['Apperance in finals'].sum().sort_values(by='Apperance in finals', ascending=False).head(10)\n",
    "\n",
    "sns.set(rc={'figure.figsize':(15,5)})\n",
    "sns.barplot(data = d, x = 'Team Names',y= 'Apperance in finals')"
   ]
  },
  {
   "cell_type": "code",
   "execution_count": 18,
   "id": "63857549",
   "metadata": {},
   "outputs": [
    {
     "data": {
      "text/plain": [
       "<Axes: xlabel='Team Names', ylabel='Fair Play Awards'>"
      ]
     },
     "execution_count": 18,
     "metadata": {},
     "output_type": "execute_result"
    },
    {
     "data": {
      "image/png": "[encoded data removed]",
      "text/plain": [
       "<Figure size 1500x500 with 1 Axes>"
      ]
     },
     "metadata": {},
     "output_type": "display_data"
    }
   ],
   "source": [
    "#Displaying Fair Play Awards Collected by Each Team\n",
    "\n",
    "F = df.groupby(['Team Names'], as_index=False)['Fair Play Awards'].sum().sort_values(by='Fair Play Awards', ascending=False).head(10)\n",
    "\n",
    "sns.set(rc={'figure.figsize':(15,5)})\n",
    "sns.barplot(data = F, x = 'Team Names',y= 'Fair Play Awards')"
   ]
  },
  {
   "cell_type": "code",
   "execution_count": 20,
   "id": "3bf69530",
   "metadata": {},
   "outputs": [
    {
     "data": {
      "text/plain": [
       "<Axes: xlabel='Team Names', ylabel='Orange Cup'>"
      ]
     },
     "execution_count": 20,
     "metadata": {},
     "output_type": "execute_result"
    },
    {
     "data": {
      "image/png": "[encoded data removed]",
      "text/plain": [
       "<Figure size 1500x500 with 1 Axes>"
      ]
     },
     "metadata": {},
     "output_type": "display_data"
    }
   ],
   "source": [
    "#Displaying Number of Orange Cap's Collected by Every Team\n",
    "\n",
    "P = df.groupby(['Team Names'], as_index=False)['Orange Cup'].sum().sort_values(by='Orange Cup', ascending=False).head(10)\n",
    "\n",
    "sns.set(rc={'figure.figsize':(15,5)})\n",
    "sns.barplot(data = P, x = 'Team Names',y= 'Orange Cup')"
   ]
  },
  {
   "cell_type": "code",
   "execution_count": 21,
   "id": "eca7c711",
   "metadata": {},
   "outputs": [
    {
     "data": {
      "text/plain": [
       "<Axes: xlabel='Team Names', ylabel='Purple Cap'>"
      ]
     },
     "execution_count": 21,
     "metadata": {},
     "output_type": "execute_result"
    },
    {
     "data": {
      "image/png": "[encoded data removed]",
      "text/plain": [
       "<Figure size 1500x500 with 1 Axes>"
      ]
     },
     "metadata": {},
     "output_type": "display_data"
    }
   ],
   "source": [
    "#Checking number Purple Cap's Secured by each Team\n",
    "\n",
    "S = df.groupby(['Team Names'], as_index=False)['Purple Cap'].sum().sort_values(by='Purple Cap', ascending=False).head(10)\n",
    "\n",
    "sns.set(rc={'figure.figsize':(15,5)})\n",
    "sns.barplot(data = S, x = 'Team Names',y= 'Purple Cap')"
   ]
  },
  {
   "cell_type": "code",
   "execution_count": 22,
   "id": "88e8a3f4",
   "metadata": {},
   "outputs": [
    {
     "data": {
      "text/plain": [
       "<Axes: xlabel='Captains', ylabel='Trophies'>"
      ]
     },
     "execution_count": 22,
     "metadata": {},
     "output_type": "execute_result"
    },
    {
     "data": {
      "image/png": "[encoded data removed]",
      "text/plain": [
       "<Figure size 1500x500 with 1 Axes>"
      ]
     },
     "metadata": {},
     "output_type": "display_data"
    }
   ],
   "source": [
    "#Checking number of Trophies Secured by Each Captain\n",
    "\n",
    "K = df.groupby(['Captains'], as_index=False)['Trophies'].sum().sort_values(by='Trophies', ascending=False).head(10)\n",
    "\n",
    "sns.set(rc={'figure.figsize':(15,5)})\n",
    "sns.barplot(data = K, x = 'Captains',y= 'Trophies')"
   ]
  },
  {
   "cell_type": "markdown",
   "id": "88da17ef",
   "metadata": {},
   "source": [
    "# Thank You "
   ]
  },
  {
   "cell_type": "code",
   "execution_count": null,
   "id": "c4ab4a5d",
   "metadata": {},
   "outputs": [],
   "source": []
  }
 ],
 "metadata": {
  "kernelspec": {
   "display_name": "Python 3 (ipykernel)",
   "language": "python",
   "name": "python3"
  },
  "language_info": {
   "codemirror_mode": {
    "name": "ipython",
    "version": 3
   },
   "file_extension": ".py",
   "mimetype": "text/x-python",
   "name": "python",
   "nbconvert_exporter": "python",
   "pygments_lexer": "ipython3",
   "version": "3.11.4"
  }
 },
 "nbformat": 4,
 "nbformat_minor": 5
}
